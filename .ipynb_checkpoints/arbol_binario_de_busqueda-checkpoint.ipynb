{
 "cells": [
  {
   "cell_type": "markdown",
   "id": "23150eab-aaa5-42d8-a38b-78e9e3014b14",
   "metadata": {},
   "source": [
    "# Unidad 2 - Actividad 2\n",
    "## Árbol binario de búsqueda\n",
    "\n",
    "\n",
    "Mediante la plantilla de la Clase BinaryTree, implemente un árbol binario de búsqueda y sus recorridos."
   ]
  },
  {
   "cell_type": "code",
   "execution_count": null,
   "id": "51986a9d-bbb2-47a3-a1f9-2f70a4284371",
   "metadata": {},
   "outputs": [],
   "source": [
    "class BinaryTree:\n",
    "    def __init__(self, list_element=None):\n",
    "        self.lstElement = list_element\n",
    "        pass\n",
    "    def set_list_element(self, list_element):\n",
    "        self.lstElement = list_element\n",
    "        pass\n",
    "    def show_tree(self):\n",
    "        \"\"\"\n",
    "        Método que muestra de forma gráfica el árbol binario de búsqueda.\n",
    "        Utilizando la librería networkx o igraph\n",
    "        \"\"\"\n",
    "        pass\n",
    "    def pre_order(self):\n",
    "        \"\"\"\n",
    "        _Método que muestra el recorrido del árbol en pre orden\n",
    "        \"\"\"\n",
    "        pass\n",
    "    def post_order(self):\n",
    "        \"\"\"\n",
    "        _Método que muestra el recorrido del árbol en post orden\n",
    "        \"\"\"\n",
    "        pass\n",
    "    def in_order(self):\n",
    "        \"\"\"\n",
    "        _Método que muestra el recorrido del árbol en in orden\n",
    "        \"\"\"\n",
    "        pass\n",
    "    def search(self, element):\n",
    "        \"\"\"\n",
    "        Método que búsca un elemento en el árbol\n",
    "        \"\"\"\n",
    "        pass\n",
    "    def insert(self, element):\n",
    "        \"\"\"\n",
    "        Método que inserta un nuevo elemento en el árbol\n",
    "        \"\"\"\n",
    "        pass\n",
    "    def delete(self, element):\n",
    "        \"\"\"\n",
    "        Método que remueve un elemento existente del árbol\n",
    "        \"\"\"\n",
    "    def read_txt(self, file_name):\n",
    "        \"\"\"\n",
    "        Método que lee datos desde un archivo txt\n",
    "        \"\"\"\n",
    "        pass"
   ]
  }
 ],
 "metadata": {
  "kernelspec": {
   "display_name": "Python 3 (ipykernel)",
   "language": "python",
   "name": "python3"
  },
  "language_info": {
   "codemirror_mode": {
    "name": "ipython",
    "version": 3
   },
   "file_extension": ".py",
   "mimetype": "text/x-python",
   "name": "python",
   "nbconvert_exporter": "python",
   "pygments_lexer": "ipython3",
   "version": "3.8.12"
  }
 },
 "nbformat": 4,
 "nbformat_minor": 5
}
